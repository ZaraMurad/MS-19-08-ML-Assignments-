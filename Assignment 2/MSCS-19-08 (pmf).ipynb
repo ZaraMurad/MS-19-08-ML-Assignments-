{
 "cells": [
  {
   "cell_type": "markdown",
   "metadata": {},
   "source": [
    "### the following program find the pmf ,if two dices are rolled.  by  using formula x<=a , x and a would be taken from the user"
   ]
  },
  {
   "cell_type": "code",
   "execution_count": 7,
   "metadata": {},
   "outputs": [
    {
     "name": "stdout",
     "output_type": "stream",
     "text": [
      "for x:2\n",
      "for b:6\n",
      "Pmf is:  0.42\n"
     ]
    }
   ],
   "source": [
    "#probablity mass function of two dices \n",
    "# pmf = x <= a\n",
    "import numpy as np\n",
    "summ = 0\n",
    "list= [0,0]\n",
    "for l in range(2,13):\n",
    "    count = 0\n",
    "    for i in range(1,6+1):\n",
    "        for j in range(1,6+1):\n",
    "            if i + j == l:\n",
    "                 count += 1\n",
    "    p = count\n",
    "    list.append(p)\n",
    "arr = np.array(list)\n",
    "#print(\"enter \"x\" and \"a\" for x <= a to calculate pmf:\")\n",
    "a  = int(input('for x:'))\n",
    "b = int(input(\"for b:\"))\n",
    "for k in range(a,b+1):\n",
    "    summ += arr[k]\n",
    "prob = round(summ/36,2)\n",
    "print(\"Pmf is: \",prob)\n",
    "print(\"I cant get \")"
   ]
  },
  {
   "cell_type": "code",
   "execution_count": null,
   "metadata": {},
   "outputs": [],
   "source": []
  }
 ],
 "metadata": {
  "kernelspec": {
   "display_name": "Python 3",
   "language": "python",
   "name": "python3"
  },
  "language_info": {
   "codemirror_mode": {
    "name": "ipython",
    "version": 3
   },
   "file_extension": ".py",
   "mimetype": "text/x-python",
   "name": "python",
   "nbconvert_exporter": "python",
   "pygments_lexer": "ipython3",
   "version": "3.8.3"
  }
 },
 "nbformat": 4,
 "nbformat_minor": 4
}
