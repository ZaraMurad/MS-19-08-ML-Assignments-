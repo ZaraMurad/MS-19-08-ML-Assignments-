{
 "cells": [
  {
   "cell_type": "markdown",
   "metadata": {},
   "source": [
    "## two dices are rolled what is the probablity if sum is 5\n",
    "## and first die is 1\n"
   ]
  },
  {
   "cell_type": "code",
   "execution_count": 11,
   "metadata": {},
   "outputs": [
    {
     "name": "stdout",
     "output_type": "stream",
     "text": [
      "possible outcomes are:\n",
      "1 1\n",
      "1 2\n",
      "1 3\n",
      "1 4\n",
      "1 5\n",
      "1 6\n",
      "probablity is: 0.16666666666666666\n"
     ]
    }
   ],
   "source": [
    "# Conditional probablity formula P(A|B)= P(A and B)/P(B)\n",
    "print(\"possible outcomes are:\")\n",
    "a = 0\n",
    "b = 0 # possible outcomes or P(B) store in b\n",
    "for i in range(1,6+1):#first die\n",
    "    for j in range(1,6+1):#second die\n",
    "        if i == 1:\n",
    "            b += 1\n",
    "            print(i,j)\n",
    "            if i+j == 5:\n",
    "                a +=1 #P(A and B) result store in a\n",
    "print(\"probablity is:\", a/b)\n",
    "\n",
    "        \n",
    "        \n",
    "        "
   ]
  }
 ],
 "metadata": {
  "kernelspec": {
   "display_name": "Python 3",
   "language": "python",
   "name": "python3"
  },
  "language_info": {
   "codemirror_mode": {
    "name": "ipython",
    "version": 3
   },
   "file_extension": ".py",
   "mimetype": "text/x-python",
   "name": "python",
   "nbconvert_exporter": "python",
   "pygments_lexer": "ipython3",
   "version": "3.8.3"
  }
 },
 "nbformat": 4,
 "nbformat_minor": 4
}
