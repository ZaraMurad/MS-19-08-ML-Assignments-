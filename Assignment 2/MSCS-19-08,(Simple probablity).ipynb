{
 "cells": [
  {
   "cell_type": "code",
   "execution_count": 2,
   "metadata": {},
   "outputs": [
    {
     "name": "stdout",
     "output_type": "stream",
     "text": [
      "Enter the no for which you want to find the probablitiy:3\n",
      "possible outcomes are\n",
      "( 1 , 2 )\n",
      "( 2 , 1 )\n",
      "probablity of outcome of 3 is 0.06\n"
     ]
    }
   ],
   "source": [
    "#finding probablity of two dices outcomes \n",
    "n = int(input(\"Enter the no for which you want to find the probablitiy:\"))\n",
    "count = 0\n",
    "t = 36\n",
    "print(\"possible outcomes are\")\n",
    "for i in range(1,7):\n",
    "    for j in range(1,7):\n",
    "        if i + j == n:\n",
    "            count += 1\n",
    "            print(\"(\",i,\",\",j,\")\")\n",
    "p = round(count/36,2)\n",
    "print('probablity of outcome of',n,'is',p)"
   ]
  }
 ],
 "metadata": {
  "kernelspec": {
   "display_name": "Python 3",
   "language": "python",
   "name": "python3"
  },
  "language_info": {
   "codemirror_mode": {
    "name": "ipython",
    "version": 3
   },
   "file_extension": ".py",
   "mimetype": "text/x-python",
   "name": "python",
   "nbconvert_exporter": "python",
   "pygments_lexer": "ipython3",
   "version": "3.8.3"
  }
 },
 "nbformat": 4,
 "nbformat_minor": 4
}
