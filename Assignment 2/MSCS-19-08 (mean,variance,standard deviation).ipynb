{
 "cells": [
  {
   "cell_type": "code",
   "execution_count": 37,
   "metadata": {},
   "outputs": [
    {
     "name": "stdout",
     "output_type": "stream",
     "text": [
      "Mean: 3.5\n",
      "Variance 2.92\n",
      "Standard Deviation: 1.71\n"
     ]
    },
    {
     "data": {
      "image/png": "[encoded data removed]",
      "text/plain": [
       "<Figure size 432x288 with 1 Axes>"
      ]
     },
     "metadata": {
      "needs_background": "light"
     },
     "output_type": "display_data"
    }
   ],
   "source": [
    "import numpy as np\n",
    "import matplotlib.pyplot as plt",
    "l = [1,2,3,4,5,6]\n",
    "mean = np.mean(l)\n",
    "variance = round(np.var(l),2)\n",
    "sdeviation = round(np.std(l),2)\n",
    "print(\"Mean:\",mean)\n",
    "print(\"Variance\",variance)\n",
    "print(\"Standard Deviation:\",sdeviation)\n",
    "plt.xlabel('x - axis') \n",
    "# naming the y-axis \n",
    "plt.ylabel('y - axis') \n",
    "# plot title \n",
    "plt.title(' bar chart!') \n",
    "plt.bar(1,mean,tick_label='mean                            std                           variance',width = 0.8)\n",
    "plt.bar(2,variance)\n",
    "plt.bar(3,s)\n",
    "plt.show()\n",
    "    "
   ]
  }
 ],
 "metadata": {
  "kernelspec": {
   "display_name": "Python 3",
   "language": "python",
   "name": "python3"
  },
  "language_info": {
   "codemirror_mode": {
    "name": "ipython",
    "version": 3
   },
   "file_extension": ".py",
   "mimetype": "text/x-python",
   "name": "python",
   "nbconvert_exporter": "python",
   "pygments_lexer": "ipython3",
   "version": "3.8.3"
  }
 },
 "nbformat": 4,
 "nbformat_minor": 4
}
