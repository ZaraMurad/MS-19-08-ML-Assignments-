{
 "cells": [
  {
   "cell_type": "markdown",
   "metadata": {},
   "source": [
    "#Roll two dice.  Let X be the value on the first die and let Y be the value on the second die.  Then both X and Y take values 1 to 6 and the joint pmf isp(i, j) = 1/36 for all i and j between 1 and 6.  Here is the joint probability table:"
   ]
  },
  {
   "cell_type": "code",
   "execution_count": 4,
   "metadata": {},
   "outputs": [
    {
     "name": "stdout",
     "output_type": "stream",
     "text": [
      "X\\Y   1         2         3         4         5         6\n",
      "1\n",
      "   ( 0.03 )   ( 0.03 )   ( 0.03 )   ( 0.03 )   ( 0.03 )   ( 0.03 )\n",
      "\n",
      "2\n",
      "   ( 0.03 )   ( 0.03 )   ( 0.03 )   ( 0.03 )   ( 0.03 )   ( 0.03 )\n",
      "\n",
      "3\n",
      "   ( 0.03 )   ( 0.03 )   ( 0.03 )   ( 0.03 )   ( 0.03 )   ( 0.03 )\n",
      "\n",
      "4\n",
      "   ( 0.03 )   ( 0.03 )   ( 0.03 )   ( 0.03 )   ( 0.03 )   ( 0.03 )\n",
      "\n",
      "5\n",
      "   ( 0.03 )   ( 0.03 )   ( 0.03 )   ( 0.03 )   ( 0.03 )   ( 0.03 )\n",
      "\n",
      "6\n",
      "   ( 0.03 )   ( 0.03 )   ( 0.03 )   ( 0.03 )   ( 0.03 )   ( 0.03 )\n",
      "\n"
     ]
    }
   ],
   "source": [
    "import numpy as np\n",
    "#joint probablity\n",
    "print(\"X\\Y   1         2         3         4         5         6\")\n",
    "for i in range(1,6+1):\n",
    "    print(i)\n",
    "    for j in range(1,6+1):\n",
    "        print(\"   (\",round(1/36,2),\")\",end=\"\")\n",
    "    print(\"\\n\")"
   ]
  },
  {
   "cell_type": "code",
   "execution_count": 3,
   "metadata": {},
   "outputs": [
    {
     "name": "stdout",
     "output_type": "stream",
     "text": [
      "Joint probablity is of two dices\n",
      "[[0.03 0.03 0.03 0.03 0.03 0.03]\n",
      " [0.03 0.03 0.03 0.03 0.03 0.03]\n",
      " [0.03 0.03 0.03 0.03 0.03 0.03]\n",
      " [0.03 0.03 0.03 0.03 0.03 0.03]\n",
      " [0.03 0.03 0.03 0.03 0.03 0.03]\n",
      " [0.03 0.03 0.03 0.03 0.03 0.03]]\n",
      "marginal Probablity is:\n",
      "x == 1: 0.18\n",
      "x == 2: 0.18\n",
      "x == 3: 0.18\n",
      "x == 4: 0.18\n",
      "x == 5: 0.18\n",
      "x == 6: 0.18\n",
      "y== 1 : 0.18\n",
      "y== 2 : 0.18\n",
      "y== 3 : 0.18\n",
      "y== 4 : 0.18\n",
      "y== 5 : 0.18\n",
      "y== 6 : 0.18\n"
     ]
    }
   ],
   "source": [
    "# Marginal probablity\n",
    "arr = np.array([[0.03,0.03,0.03,0.03,0.03,0.03],[0.03,0.03,0.03,0.03,0.03,0.03],[0.03,0.03,0.03,0.03,0.03,0.03],[0.03,0.03,0.03,0.03,0.03,0.03],[0.03,0.03,0.03,0.03,0.03,0.03],[0.03,0.03,0.03,0.03,0.03,0.03]])\n",
    "print(\"Joint probablity is of two dices\")\n",
    "print(arr)\n",
    "x1 = np.array([0.03,0.03,0.03,0.03,0.03,0.03])\n",
    "x2 = np.array([0.03,0.03,0.03,0.03,0.03,0.03])\n",
    "x3 = np.array([0.03,0.03,0.03,0.03,0.03,0.03])\n",
    "x4 = np.array([0.03,0.03,0.03,0.03,0.03,0.03])\n",
    "x5 = np.array([0.03,0.03,0.03,0.03,0.03,0.03])\n",
    "x6 = np.array([0.03,0.03,0.03,0.03,0.03,0.03])\n",
    "y1 = np.array([0.03,0.03,0.03,0.03,0.03,0.03])\n",
    "y2 = np.array([0.03,0.03,0.03,0.03,0.03,0.03])\n",
    "y3 = np.array([0.03,0.03,0.03,0.03,0.03,0.03])\n",
    "y4 = np.array([0.03,0.03,0.03,0.03,0.03,0.03])\n",
    "y5 = np.array([0.03,0.03,0.03,0.03,0.03,0.03])\n",
    "y6 = np.array([0.03,0.03,0.03,0.03,0.03,0.03])\n",
    "print(\"marginal Probablity is:\")\n",
    "print(\"x == 1:\",sum(x1))\n",
    "print(\"x == 2:\",sum(x2))\n",
    "print(\"x == 3:\",sum(x3))\n",
    "print(\"x == 4:\",sum(x4))\n",
    "print(\"x == 5:\",sum(x5))\n",
    "print(\"x == 6:\",sum(x6))\n",
    "print(\"y== 1 :\",sum(y1))\n",
    "print(\"y== 2 :\",sum(y2))\n",
    "print(\"y== 3 :\",sum(y3))\n",
    "print(\"y== 4 :\",sum(y4))\n",
    "print(\"y== 5 :\",sum(y5))\n",
    "print(\"y== 6 :\",sum(y6))"
   ]
  }
 ],
 "metadata": {
  "kernelspec": {
   "display_name": "Python 3",
   "language": "python",
   "name": "python3"
  },
  "language_info": {
   "codemirror_mode": {
    "name": "ipython",
    "version": 3
   },
   "file_extension": ".py",
   "mimetype": "text/x-python",
   "name": "python",
   "nbconvert_exporter": "python",
   "pygments_lexer": "ipython3",
   "version": "3.8.3"
  }
 },
 "nbformat": 4,
 "nbformat_minor": 4
}
